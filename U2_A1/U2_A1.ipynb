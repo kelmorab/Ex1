{
 "cells": [
  {
   "cell_type": "markdown",
   "metadata": {},
   "source": [
    "# Instructions"
   ]
  },
  {
   "cell_type": "markdown",
   "metadata": {},
   "source": [
    "To run the script, step through all cells\n",
    "You can evaluate the code in a cell by entering it and pressing shift+enter"
   ]
  },
  {
   "cell_type": "markdown",
   "metadata": {},
   "source": [
    "Import necessary packages"
   ]
  },
  {
   "cell_type": "code",
   "execution_count": null,
   "metadata": {},
   "outputs": [],
   "source": [
    "# Mathematikpaket\n",
    "import numpy as np\n",
    "# Paket zum erstellen von Schaubildern\n",
    "import matplotlib\n",
    "import matplotlib.pyplot as plt\n",
    "# Paket fuer statistische Methoden und Zufallsverteilungen\n",
    "from scipy import stats"
   ]
  },
  {
   "cell_type": "code",
   "execution_count": null,
   "metadata": {},
   "outputs": [],
   "source": [
    "# Setze Optionen fuer den Stil der matplotlib Grafiken\n",
    "matplotlib.rcParams['figure.autolayout'] = True\n",
    "matplotlib.rcParams['font.size'] = 24"
   ]
  },
  {
   "cell_type": "markdown",
   "metadata": {},
   "source": [
    "Funktion zum wuerfeln und Histogrammieren"
   ]
  },
  {
   "cell_type": "code",
   "execution_count": null,
   "metadata": {},
   "outputs": [],
   "source": [
    "def run(n_sets, n_wuerfe, n_seiten, binbreite_wuerfe=0.5, binbreite_means=0.5 ):\n",
    "    \n",
    "    # Ziehe n_sets x n_wuerfe gleichverteilte Zufallszahlen zwischen 1 und n_seiten\n",
    "    zufallszahlen = np.random.randint( low=1, high=n_seiten+1 , size = ( n_sets, n_wuerfe ) )\n",
    "    \n",
    "    \n",
    "    # Erstelle 1D array aller Wuerfe\n",
    "    alle_wuerfe=zufallszahlen.flatten()\n",
    "\n",
    "    # Mittelwert der Augenzahlen fuer jede Runde\n",
    "    # Erstelle 1D array mit den Mittelwerten der einzelnen Runden\n",
    "    mittelwerte = zufallszahlen.mean( axis = 1 )\n",
    "\n",
    "    #Erstellen der Schaubilder\n",
    "    #Erstelle eine Leinwand mit 2 Schaubildern\n",
    "    fig,axes = plt.subplots(2)\n",
    "    # fig = Figure Objekt\n",
    "    # Setze groesse in Zoll (breite, hoehe)\n",
    "    fig.set_size_inches(8,10)\n",
    "    # axes = Axen der beiden Schaubilder\n",
    "    axis_means=axes[1]\n",
    "    axis_wuerfe=axes[0]\n",
    "\n",
    "\n",
    "    #Histogrammiere Ergebnisse\n",
    "    bingrenzen_wuerfe = np.arange( 1, n_seiten+1, binbreite_wuerfe )\n",
    "    bingrenzen_means = np.arange( 1, (n_seiten+1), binbreite_means )\n",
    "    axis_wuerfe.hist( alle_wuerfe, bins=bingrenzen_wuerfe-(binbreite_wuerfe/2.) )\n",
    "    axis_means.hist( mittelwerte, bins=bingrenzen_means-(binbreite_wuerfe/2.) )\n",
    "\n",
    "    ## Schaubild aller Wuerfe\n",
    "    # Grafik plotten\n",
    "    axis_wuerfe.plot()\n",
    "\n",
    "    # Verschoenerung der Darstellung\n",
    "    axis_wuerfe.set_xlabel( r'Wuerfelwurf' )\n",
    "    axis_wuerfe.set_ylabel( r'Haeufigkeit' )\n",
    "    axis_wuerfe.grid( True )\n",
    "    if n_seiten<10:\n",
    "      axis_wuerfe.set_xticks(np.arange(1,n_seiten+1,1))\n",
    "    \n",
    "\n",
    "    ## Schaubild der Mittelwerte\n",
    "    # Anpassung einer Gaussverteilung an die Verteilung der Mittelwerte\n",
    "    fitmittel, standardabweichung = stats.norm.fit( mittelwerte )\n",
    "    print(\"Verteilung der Mittelwerte\")\n",
    "    print( \"Mittelwert:\"+ str(fitmittel))\n",
    "    print(\"Standardabweichung: \"+str(standardabweichung) )\n",
    "    x = np.linspace( 1, n_seiten, 100 )\n",
    "    y = n_sets * binbreite_means * stats.norm.pdf( x, fitmittel, standardabweichung )\n",
    "    axis_means.plot( x, y )\n",
    "    \n",
    "    #Verschoenerung der Darstellung\n",
    "    axis_means.set_xlabel( r'Mittlere Augenzahl' )\n",
    "    axis_means.set_ylabel( r'Haeufigkeit' )\n",
    "    axis_means.grid( True )\n",
    "    if n_seiten<10:\n",
    "      axis_means.set_xticks(np.arange(1,n_seiten+1,1))"
   ]
  },
  {
   "cell_type": "markdown",
   "metadata": {},
   "source": [
    "Konfiguration des Experiments und Ausführung"
   ]
  },
  {
   "cell_type": "code",
   "execution_count": null,
   "metadata": {},
   "outputs": [],
   "source": [
    "#Anzahl der Wuerfelrunden\n",
    "n_sets = 20\n",
    "\n",
    "#Anzahl der Wuerfe pro Runde\n",
    "n_wuerfe = 5\n",
    "\n",
    "# Seiten des ''Wuerfels''\n",
    "n_seiten = 6\n",
    "\n",
    "# bin-Breite fuer das Histogramm aller Wuerfe\n",
    "binbreite_wuerfe=0.5\n",
    "\n",
    "# bin-Breite fuer das Histogramm der Mittelwerte\n",
    "binbreite_means=0.5\n",
    "\n",
    "run(n_sets, n_wuerfe, n_seiten, binbreite_wuerfe, binbreite_means)"
   ]
  },
  {
   "cell_type": "code",
   "execution_count": null,
   "metadata": {},
   "outputs": [],
   "source": []
  },
  {
   "cell_type": "code",
   "execution_count": null,
   "metadata": {},
   "outputs": [],
   "source": []
  }
 ],
 "metadata": {
  "kernelspec": {
   "display_name": "Python 3",
   "language": "python",
   "name": "python3"
  },
  "language_info": {
   "codemirror_mode": {
    "name": "ipython",
    "version": 2
   },
   "file_extension": ".py",
   "mimetype": "text/x-python",
   "name": "python",
   "nbconvert_exporter": "python",
   "pygments_lexer": "ipython2",
   "version": "2.7.12"
  }
 },
 "nbformat": 4,
 "nbformat_minor": 2
}
